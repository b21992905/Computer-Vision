import os
import pydicom
import matplotlib.pyplot as plt

path_roi = "/content/drive/MyDrive/Colab Notebooks/Pulmonary Fibrosis/term2/HUG-data/ILD_DB_txtROIs/"

def load_ROI_files(ROI_file_name):
    ROIs = []
    with open(ROI_file_name, 'r') as fid:
        i = 0
        while True:
            tline = fid.readline()
            if not tline:
                break

            if 'SpacingX:' in tline:
                spacing_x = float(tline.replace('SpacingX: ', ''))
            elif 'SpacingY:' in tline:
                spacing_y = float(tline.replace('SpacingY: ', ''))
            elif 'label:' in tline:
                label = tline.replace('label: ', '').strip()
            elif 'slice_number:' in tline:
                slice_number = int(tline.replace('slice_number: ', ''))
            elif 'nb_points_on_contour:' in tline:
                nb_points_on_contour = int(tline.replace('nb_points_on_contour: ', ''))
                x_values = []
                y_values = []
                for j in range(nb_points_on_contour):
                    tline = fid.readline()
                    x_val_str, y_val_str = tline.split(' ')
                    x_val = float(x_val_str)
                    y_val = float(y_val_str)
                    x_values.append(x_val)
                    y_values.append(y_val)
                # store the ROI into the list "ROIs"
                ROIs.append({
                    'spacing_x': spacing_x,
                    'spacing_y': spacing_y,
                    'label': label,
                    'slice_number': slice_number,
                    'x_values': x_values,
                    'y_values': y_values
                })
                i += 1
    return ROIs

directories = os.listdir(path_roi)
remove_elements = ['HRCT_pilot','171','172','173','174','175','177','179','182','183','184','185']
for i in remove_elements:
  directories.remove(i)
directories

disease_colors = {
    "healthy": "blue",
    "emphysema": "green",
    "ground_glass": "red",
    "fibrosis": "orange",
    "micronodules": "purple",
    "consolidation": "yellow",
    "bronchial_wall_thickening": "cyan",
    "reticulation": "magenta",
    "macronodules": "brown",
    "cysts": "pink",
    "peripheral_micronodules": "gray",
    "bronchiectasis": "olive",
    "air_trapping": "lime",
    "early_fibrosis": "teal",
    "increased_attenuation": "navy",
    "tuberculosis": "salmon",
    "pcp": "skyblue"
}

disease_counter = {
    "healthy": 0,
    "emphysema": 0,
    "ground_glass": 0,
    "fibrosis": 0,
    "micronodules": 0,
    "consolidation": 0,
    "bronchial_wall_thickening": 0,
    "reticulation": 0,
    "macronodules": 0,
    "cysts": 0,
    "peripheral_micronodules": 0,
    "bronchiectasis": 0,
    "air_trapping": 0,
    "early_fibrosis": 0,
    "increased_attenuation": 0,
    "tuberculosis": 0,
    "pcp": 0
}
ill_people_counter = {
    "healthy": 0,
    "emphysema": 0,
    "ground_glass": 0,
    "fibrosis": 0,
    "micronodules": 0,
    "consolidation": 0,
    "bronchial_wall_thickening": 0,
    "reticulation": 0,
    "macronodules": 0,
    "cysts": 0,
    "peripheral_micronodules": 0,
    "bronchiectasis": 0,
    "air_trapping": 0,
    "early_fibrosis": 0,
    "increased_attenuation": 0,
    "tuberculosis": 0,
    "pcp": 0
}

def draw_rois(rois, txt_file,folder):
  splitz = str.split(txt_file, '.')
  id_of_patient = str.split(splitz[0],'-')[-1]
  stringx = 'CT-' + id_of_patient + '-'
  ill_people_counter_check = {
    "healthy": 0,
    "emphysema": 0,
    "ground_glass": 0,
    "fibrosis": 0,
    "micronodules": 0,
    "consolidation": 0,
    "bronchial_wall_thickening": 0,
    "reticulation": 0,
    "macronodules": 0,
    "cysts": 0,
    "peripheral_micronodules": 0,
    "bronchiectasis": 0,
    "air_trapping": 0,
    "early_fibrosis": 0,
    "increased_attenuation": 0,
    "tuberculosis": 0,
    "pcp": 0
}
  for roi in rois:
    spacing_x = roi['spacing_x']
    spacing_y = roi['spacing_y']
    x_values = [x//spacing_x for x in roi['x_values']]
    y_values = [y//spacing_x for y in roi['y_values']]

    label = roi['label']
    disease_counter[label] = disease_counter[label]+1
    if ill_people_counter_check[label] == 0:
      ill_people_counter[label] = ill_people_counter[label] + 1
      ill_people_counter_check[label] = 1
    slice_number = roi['slice_number']
    dcm_file = ""
    if slice_number//10 == 0:
      dcm_file = stringx + "000" + str(slice_number)+ ".dcm"
    elif 10 > slice_number//10 > 0:
      dcm_file = stringx + "00" + str(slice_number)+ ".dcm"
    elif 10 <= slice_number//10:
      dcm_file = stringx + "0" + str(slice_number)+ ".dcm"
    plt.figure()
    plt.plot(x_values, y_values, 'b-', color=disease_colors[label])
    # Fill between the line and the bottom of the plot
    #plt.fill_between(x_values, y_values, color=disease_colors[label], alpha=0.2)
    plt.xlabel('X Values')
    plt.ylabel('Y Values')
    if folder =="":
      plt.title('Patient: {} \n Segmented Slice: {} (Slice {})'.format(int(patient),label, slice_number))
    else:
      plt.title('Patient: {} \n Segmented Slice: {} (Slice {})'.format((patient + '/' + folder) ,label, slice_number))
    plt.gca().invert_yaxis()  # Invert y-axis to match image coordinates
    plt.gca().set_aspect('equal', adjustable='box')  # Set aspect ratio to be equal
    plt.grid(True)
    if folder == "":
      ds = pydicom.dcmread(path_roi + patient + '/' +  dcm_file)
    else:
      ds = pydicom.dcmread(path_roi + patient + '/' + folder + "/" + dcm_file)
    pixel_data = ds.pixel_array

    plt.imshow(pixel_data, cmap=plt.cm.gray)
    plt.show()

for patient in directories:
  files = os.listdir(path_roi + patient)
  txts = []
  folders = []
  for filex in files:
    if filex.endswith('.txt'):
      txts.append(filex)
    elif filex.endswith('.dcm'):
      continue
    else:
      folders.append(filex)
  if txts==[]:
    for folder in folders:
      files = os.listdir(path_roi + patient + "/" + folder)
      txts = []
      folders = []
      for filex in files:
        if filex.endswith('.txt'):
          txts.append(filex)
        elif filex.endswith('.dcm'):
          continue
        else:
          folders.append(filex)
    txt_file_path = path_roi + patient + '/' + folder + '/' + txts[0]
    rois = load_ROI_files(txt_file_path)
    draw_rois(rois,txts[0],folder)
  else:
    txt_file_path = path_roi + patient + '/' + txts[0]
    rois = load_ROI_files(txt_file_path)
    draw_rois(rois,txts[0],"")

print(disease_counter)
print(ill_people_counter)
